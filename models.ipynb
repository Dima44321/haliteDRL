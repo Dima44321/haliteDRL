{
 "metadata": {
  "language_info": {
   "codemirror_mode": {
    "name": "ipython",
    "version": 3
   },
   "file_extension": ".py",
   "mimetype": "text/x-python",
   "name": "python",
   "nbconvert_exporter": "python",
   "pygments_lexer": "ipython3",
   "version": "3.8.2-final"
  },
  "orig_nbformat": 2,
  "kernelspec": {
   "name": "Python 3.8.2 64-bit ('pygame': conda)",
   "display_name": "Python 3.8.2 64-bit ('pygame': conda)",
   "metadata": {
    "interpreter": {
     "hash": "03c718ead2b64fbd02cb300752db6af253b8e5824ecaf8a797f4c8de8c4a8305"
    }
   }
  }
 },
 "nbformat": 4,
 "nbformat_minor": 2,
 "cells": [
  {
   "cell_type": "code",
   "execution_count": 8,
   "metadata": {
    "tags": []
   },
   "outputs": [],
   "source": [
    "import torch\n",
    "import torch.nn as nn\n",
    "import numpy as np\n",
    "from board_funcs import get_sample_board, board_to_np, augment_ship, augment_sy"
   ]
  },
  {
   "cell_type": "code",
   "execution_count": 9,
   "metadata": {},
   "outputs": [],
   "source": [
    "#Constant params\n",
    "nc = 3   #number channels\n",
    "nf = 32  #number feature detectors\n",
    "board_size = 21\n",
    "ship_action_space_size = 5\n",
    "shipyard_action_space_size = 2\n",
    "agent_count = 4\n",
    "\n",
    "#use GPU if available\n",
    "device = torch.device('cuda' if torch.cuda.is_available else 'cpu')"
   ]
  },
  {
   "cell_type": "code",
   "execution_count": 10,
   "metadata": {},
   "outputs": [],
   "source": [
    "class ShipNet(nn.Module):\n",
    "    def __init__(self):\n",
    "        super(ShipNet, self).__init__()\n",
    "        \n",
    "        #four convolutional layers\n",
    "        self.conv = nn.Sequential(\n",
    "            nn.Conv2d(nc, nf, 4, 1, 0), # out 18x18\n",
    "            nn.BatchNorm2d(nf),\n",
    "            nn.LeakyReLU(0.2, inplace=True), \n",
    "\n",
    "            nn.Conv2d(nf, nf*2, 3, 1, 0), # out 16x16\n",
    "            nn.BatchNorm2d(nf*2),\n",
    "            nn.LeakyReLU(0.2, inplace=True), \n",
    "\n",
    "            nn.Conv2d(nf*2, nf*4, 4, 2, 1), # out 8x8\n",
    "            nn.BatchNorm2d(nf*4),\n",
    "            nn.LeakyReLU(0.2, inplace=True),\n",
    "\n",
    "            nn.Conv2d(nf*4, nf*2, 4, 2, 1), # out 4x4\n",
    "            nn.BatchNorm2d(nf*2),\n",
    "            nn.LeakyReLU(0.2, inplace=True),\n",
    "\n",
    "            nn.Conv2d(nf*2, nf, 4, 2, 1), # out 2x2\n",
    "            nn.BatchNorm2d(nf),\n",
    "            nn.LeakyReLU(0.2, inplace=True)\n",
    "        )\n",
    "\n",
    "        #single linear layer\n",
    "        self.linear = nn.Sequential(\n",
    "            nn.Linear(nf*4, ship_action_space_size),\n",
    "            nn.Sigmoid()\n",
    "        )\n",
    "        \n",
    "    def forward(self, x):\n",
    "        #forward pass through the network\n",
    "        x = self.conv(x)\n",
    "        x = x.view(-1, nf*4)\n",
    "        return self.linear(x)"
   ]
  },
  {
   "cell_type": "code",
   "execution_count": 11,
   "metadata": {},
   "outputs": [
    {
     "output_type": "execute_result",
     "data": {
      "text/plain": [
       "torch.Size([12, 3, 21, 21])"
      ]
     },
     "metadata": {},
     "execution_count": 11
    }
   ],
   "source": [
    "#create test batch of size 5 \n",
    "bs = 12\n",
    "boards = []\n",
    "for i in range(bs): \n",
    "    sample = get_sample_board(board_size, agent_count)\n",
    "    sample_np = board_to_np(sample, nc)\n",
    "    boards.append(sample_np)\n",
    "batch = torch.tensor(boards).to(device).float()\n",
    "batch.shape"
   ]
  },
  {
   "cell_type": "code",
   "execution_count": 12,
   "metadata": {
    "tags": []
   },
   "outputs": [
    {
     "output_type": "execute_result",
     "data": {
      "text/plain": [
       "torch.Size([12, 5])"
      ]
     },
     "metadata": {},
     "execution_count": 12
    }
   ],
   "source": [
    "#init network and run on test batch \n",
    "NN = ShipNet().to(device)\n",
    "out = NN(batch)\n",
    "out.shape"
   ]
  },
  {
   "cell_type": "code",
   "execution_count": 13,
   "metadata": {},
   "outputs": [
    {
     "output_type": "execute_result",
     "data": {
      "text/plain": [
       "tensor([0.4952, 0.4168, 0.4583, 0.2732, 0.5080], device='cuda:0',\n",
       "       grad_fn=<SelectBackward>)"
      ]
     },
     "metadata": {},
     "execution_count": 13
    }
   ],
   "source": [
    "#probabilities to take each action\n",
    "out[0]"
   ]
  },
  {
   "cell_type": "code",
   "execution_count": 7,
   "metadata": {},
   "outputs": [],
   "source": [
    "class ShipYardNet(nn.Module):\n",
    "    def __init__(self):\n",
    "        super(ShipYardNet, self).__init__()\n",
    "        \n",
    "        #four convolutional layers\n",
    "        self.conv = nn.Sequential(\n",
    "            nn.Conv2d(nc, nf, 4, 1, 0), # out 18x18\n",
    "            nn.BatchNorm2d(nf),\n",
    "            nn.LeakyReLU(0.2, inplace=True), \n",
    "\n",
    "            nn.Conv2d(nf, nf*2, 3, 1, 0), # out 16x16\n",
    "            nn.BatchNorm2d(nf*2),\n",
    "            nn.LeakyReLU(0.2, inplace=True), \n",
    "\n",
    "            nn.Conv2d(nf*2, nf*4, 4, 2, 1), # out 8x8\n",
    "            nn.BatchNorm2d(nf*4),\n",
    "            nn.LeakyReLU(0.2, inplace=True),\n",
    "\n",
    "            nn.Conv2d(nf*4, nf*2, 4, 2, 1), # out 4x4\n",
    "            nn.BatchNorm2d(nf*2),\n",
    "            nn.LeakyReLU(0.2, inplace=True),\n",
    "\n",
    "            nn.Conv2d(nf*2, nf, 4, 2, 1), # out 2x2\n",
    "            nn.BatchNorm2d(nf),\n",
    "            nn.LeakyReLU(0.2, inplace=True)\n",
    "        )\n",
    "\n",
    "        #single linear layer\n",
    "        self.linear = nn.Sequential(\n",
    "            nn.Linear(nf*4, shipyard_action_space_size),\n",
    "            nn.Sigmoid()\n",
    "        )\n",
    "        \n",
    "    def forward(self, x):\n",
    "        #forward pass through the network\n",
    "        x = self.conv(x)\n",
    "        x = x.view(-1, nf*4)\n",
    "        return self.linear(x)"
   ]
  },
  {
   "cell_type": "code",
   "execution_count": 14,
   "metadata": {},
   "outputs": [
    {
     "output_type": "execute_result",
     "data": {
      "text/plain": [
       "torch.Size([12, 2])"
      ]
     },
     "metadata": {},
     "execution_count": 14
    }
   ],
   "source": [
    "#init network and run on test batch \n",
    "NN = ShipYardNet().to(device)\n",
    "out = NN(batch)\n",
    "out.shape"
   ]
  },
  {
   "cell_type": "code",
   "execution_count": 15,
   "metadata": {},
   "outputs": [
    {
     "output_type": "execute_result",
     "data": {
      "text/plain": [
       "tensor([0.5677, 0.5296], device='cuda:0', grad_fn=<SelectBackward>)"
      ]
     },
     "metadata": {},
     "execution_count": 15
    }
   ],
   "source": [
    "out[0]"
   ]
  },
  {
   "cell_type": "code",
   "execution_count": 19,
   "metadata": {},
   "outputs": [],
   "source": [
    "#Coordinates Ships and Shipyards in order to produce actions given board\n",
    "class Controller(): \n",
    "    def __init__(self, shipnet, synet, ships, sy):\n",
    "        self.shipnet = shipnet\n",
    "        self.synet = synet\n",
    "        self.ships = ships\n",
    "        self.sy = sy\n",
    "    \n",
    "    #return actions for ships and shipyards given a board state\n",
    "    def get_actions(board):\n",
    "        ship_actions = []\n",
    "        sy_actions = []\n",
    "\n",
    "        #step through ships and get action for each \n",
    "        for i in self.ships:\n",
    "            board = augment_ship(board, i)\n",
    "            ship_actions.append(self.shipnet(board))\n",
    "        \n",
    "        #step through shipyards and get action for each\n",
    "        for i in self.sy:\n",
    "            board = augment_sy(board, i)\n",
    "            sy_actions.append(self.synet(board))\n",
    "\n",
    "        return ship_actions, sy_actions\n",
    "\n",
    "\n"
   ]
  },
  {
   "cell_type": "code",
   "execution_count": null,
   "metadata": {},
   "outputs": [],
   "source": []
  }
 ]
}