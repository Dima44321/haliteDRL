{
 "metadata": {
  "language_info": {
   "codemirror_mode": {
    "name": "ipython",
    "version": 3
   },
   "file_extension": ".py",
   "mimetype": "text/x-python",
   "name": "python",
   "nbconvert_exporter": "python",
   "pygments_lexer": "ipython3",
   "version": "3.7.1-final"
  },
  "orig_nbformat": 2,
  "kernelspec": {
   "name": "Python 3.7.1 64-bit ('base': conda)",
   "display_name": "Python 3.7.1 64-bit ('base': conda)",
   "metadata": {
    "interpreter": {
     "hash": "43fb28534adcf5d5d1d5456b0506f47d1d45cab9d77e63353d0dd5a819ba8a55"
    }
   }
  }
 },
 "nbformat": 4,
 "nbformat_minor": 2,
 "cells": [
  {
   "cell_type": "code",
   "execution_count": 9,
   "metadata": {
    "tags": []
   },
   "outputs": [],
   "source": [
    "import torch\n",
    "import torch.nn as nn\n",
    "import numpy as np\n",
    "from board_funcs import get_sample_board, board_to_np"
   ]
  },
  {
   "cell_type": "code",
   "execution_count": 10,
   "metadata": {},
   "outputs": [],
   "source": [
    "#Constant params\n",
    "nc = 3   #number channels\n",
    "nf = 32  #number feature detectors\n",
    "board_size = 21\n",
    "action_space_size = 5\n",
    "agent_count = 4\n",
    "\n",
    "#use GPU if available\n",
    "device = torch.device('cuda' if torch.cuda.is_available else 'cpu')"
   ]
  },
  {
   "cell_type": "code",
   "execution_count": 11,
   "metadata": {},
   "outputs": [],
   "source": [
    "class ShipNet(nn.Module):\n",
    "    def __init__(self):\n",
    "        super(ShipNet, self).__init__()\n",
    "        \n",
    "        #four convolutional layers\n",
    "        self.conv = nn.Sequential(\n",
    "            nn.Conv2d(nc, nf, 4, 1, 0), # out 18x18\n",
    "            nn.BatchNorm2d(nf),\n",
    "            nn.LeakyReLU(0.2, inplace=True), \n",
    "\n",
    "            nn.Conv2d(nf, nf*2, 3, 1, 0), # out 16x16\n",
    "            nn.BatchNorm2d(nf*2),\n",
    "            nn.LeakyReLU(0.2, inplace=True), \n",
    "\n",
    "            nn.Conv2d(nf*2, nf*4, 4, 2, 1), # out 8x8\n",
    "            nn.BatchNorm2d(nf*4),\n",
    "            nn.LeakyReLU(0.2, inplace=True),\n",
    "\n",
    "            nn.Conv2d(nf*4, nf*2, 4, 2, 1), # out 4x4\n",
    "            nn.BatchNorm2d(nf*2),\n",
    "            nn.LeakyReLU(0.2, inplace=True),\n",
    "\n",
    "            nn.Conv2d(nf*2, nf, 4, 2, 1), # out 2x2\n",
    "            nn.BatchNorm2d(nf),\n",
    "            nn.LeakyReLU(0.2, inplace=True)\n",
    "        )\n",
    "\n",
    "        #single linear layer\n",
    "        self.linear = nn.Sequential(\n",
    "            nn.Linear(nf*4, action_space_size),\n",
    "            nn.Sigmoid()\n",
    "        )\n",
    "        \n",
    "    def forward(self, x):\n",
    "        #forward pass through the network\n",
    "        x = self.conv(x)\n",
    "        x = x.view(-1, nf*4)\n",
    "        return self.linear(x)"
   ]
  },
  {
   "cell_type": "code",
   "execution_count": 12,
   "metadata": {},
   "outputs": [
    {
     "output_type": "execute_result",
     "data": {
      "text/plain": "torch.Size([12, 3, 21, 21])"
     },
     "metadata": {},
     "execution_count": 12
    }
   ],
   "source": [
    "#create test batch of size 5 \n",
    "bs = 12\n",
    "boards = []\n",
    "for i in range(bs): \n",
    "    sample = get_sample_board(board_size, agent_count)\n",
    "    sample_np = board_to_np(sample, nc)\n",
    "    boards.append(sample_np)\n",
    "batch = torch.tensor(boards).to(device).float()\n",
    "batch.shape"
   ]
  },
  {
   "cell_type": "code",
   "execution_count": 13,
   "metadata": {
    "tags": []
   },
   "outputs": [
    {
     "output_type": "execute_result",
     "data": {
      "text/plain": "torch.Size([12, 5])"
     },
     "metadata": {},
     "execution_count": 13
    }
   ],
   "source": [
    "#init network and run on test batch \n",
    "NN = ShipNet().to(device)\n",
    "out = NN(batch)\n",
    "out.shape"
   ]
  },
  {
   "cell_type": "code",
   "execution_count": 14,
   "metadata": {},
   "outputs": [
    {
     "output_type": "execute_result",
     "data": {
      "text/plain": "tensor([0.4884, 0.3239, 0.4175, 0.4442, 0.4516], device='cuda:0',\n       grad_fn=<SelectBackward>)"
     },
     "metadata": {},
     "execution_count": 14
    }
   ],
   "source": [
    "#probabilities to take each action\n",
    "out[0]"
   ]
  },
  {
   "cell_type": "code",
   "execution_count": null,
   "metadata": {},
   "outputs": [],
   "source": []
  }
 ]
}