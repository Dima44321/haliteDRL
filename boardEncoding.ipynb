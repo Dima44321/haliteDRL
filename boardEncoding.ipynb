{
 "cells": [
  {
   "cell_type": "code",
   "execution_count": 1,
   "metadata": {},
   "outputs": [],
   "source": [
    "import numpy as np\n",
    "import torch\n",
    "import torch.nn as nn\n",
    "import torch.nn.functional as F\n",
    "import time\n",
    "import matplotlib.pyplot as plt\n",
    "from kaggle_environments import make\n",
    "from kaggle_environments.envs.halite.helpers import *"
   ]
  },
  {
   "cell_type": "code",
   "execution_count": 2,
   "metadata": {},
   "outputs": [],
   "source": [
    "#constants\n",
    "board_size = 5\n",
    "board_dim = 3 #convey 3 pieces of info: halite, shipyards, ships\n",
    "agent_count = 4\n",
    "max_cell_halite = 9\n",
    "\n",
    "#create env and get first state\n",
    "environment = make(\"halite\", configuration={\"size\": board_size, \"startingHalite\": 1000})\n",
    "environment.reset(agent_count)\n",
    "state = environment.state[0]"
   ]
  },
  {
   "cell_type": "code",
   "execution_count": 3,
   "metadata": {},
   "outputs": [
    {
     "name": "stdout",
     "output_type": "stream",
     "text": [
      "| 0 | 0 | 0 | 0 | 0 |\n",
      "| 0 |a3 | 0 |b3 | 0 |\n",
      "| 0 | 0 | 0 | 0 | 0 |\n",
      "| 0 |c3 | 0 |d3 | 0 |\n",
      "| 0 | 0 | 0 | 0 | 0 |\n",
      "\n"
     ]
    }
   ],
   "source": [
    "'''\n",
    "Board is nxn where n is board_size\n",
    "Number represents cell halite\n",
    "Lower case = ship\n",
    "Upper case = shipyard\n",
    "a,b,c,etc. = player 1, player 2, player 3, etc.\n",
    "'''\n",
    "board = Board(state.observation, environment.configuration)\n",
    "print(board)"
   ]
  },
  {
   "cell_type": "code",
   "execution_count": 4,
   "metadata": {},
   "outputs": [],
   "source": [
    "#Encodes halite board object to np array\n",
    "def board_to_np(board):\n",
    "    #convert board to string and clean up\n",
    "    board_np = str(board).replace(' ', \"\")\n",
    "    board_np = board_np.replace('|\\n', \"\")\n",
    "\n",
    "    #tokenize board to insert into np array\n",
    "    board_np = np.array((board_np.split(\"|\"))[1:])\n",
    "\n",
    "    #create placeholder array that will hold board\n",
    "    board_arr = np.zeros((board_dim, board_size**2))\n",
    "    \n",
    "    #iterate through cells and fill in placeholder array\n",
    "    for i in range(board_size**2):\n",
    "        cell = board_np[i]\n",
    "        for j in cell:\n",
    "            if j>='0' and j<='9':    #using unicode to determine character\n",
    "                board_arr[0,i] = int(j)/max_cell_halite    #normalize between 0-1\n",
    "            elif j>='A' and j<='Z':\n",
    "                board_arr[1,i] = (ord(j)-64)/agent_count    \n",
    "            elif j>='a' and j<='z':\n",
    "                board_arr[2,i] = (ord(j)-96)/agent_count\n",
    "    board_arr = board_arr.reshape(board_dim, board_size, board_size)\n",
    "    \n",
    "    #return np array of size n x n x 3\n",
    "    return board_arr"
   ]
  },
  {
   "cell_type": "code",
   "execution_count": 16,
   "metadata": {},
   "outputs": [
    {
     "name": "stdout",
     "output_type": "stream",
     "text": [
      "[[[0.         0.         0.         0.         0.        ]\n",
      "  [0.         0.33333333 0.         0.33333333 0.        ]\n",
      "  [0.         0.         0.         0.         0.        ]\n",
      "  [0.         0.33333333 0.         0.33333333 0.        ]\n",
      "  [0.         0.         0.         0.         0.        ]]\n",
      "\n",
      " [[0.         0.         0.         0.         0.        ]\n",
      "  [0.         0.         0.         0.         0.        ]\n",
      "  [0.         0.         0.         0.         0.        ]\n",
      "  [0.         0.         0.         0.         0.        ]\n",
      "  [0.         0.         0.         0.         0.        ]]\n",
      "\n",
      " [[0.         0.         0.         0.         0.        ]\n",
      "  [0.         0.25       0.         0.5        0.        ]\n",
      "  [0.         0.         0.         0.         0.        ]\n",
      "  [0.         0.75       0.         1.         0.        ]\n",
      "  [0.         0.         0.         0.         0.        ]]]\n",
      "Encoding the board took 0.0009946823120117188 seconds\n"
     ]
    }
   ],
   "source": [
    "start = time.time()\n",
    "board_np = board_to_np(board)\n",
    "wall_time = time.time()-start\n",
    "print(board_np)\n",
    "print(f\"Encoding the board took {wall_time} seconds\")"
   ]
  },
  {
   "cell_type": "code",
   "execution_count": 6,
   "metadata": {},
   "outputs": [
    {
     "name": "stdout",
     "output_type": "stream",
     "text": [
      "| 0 | 0 | 0 | 0 | 0 |\n",
      "| 0 |a3 | 0 |b3 | 0 |\n",
      "| 0 | 0 | 0 | 0 | 0 |\n",
      "| 0 |c3 | 0 |d3 | 0 |\n",
      "| 0 | 0 | 0 | 0 | 0 |\n",
      "\n"
     ]
    }
   ],
   "source": [
    "print(board)"
   ]
  },
  {
   "cell_type": "code",
   "execution_count": 24,
   "metadata": {},
   "outputs": [
    {
     "name": "stdout",
     "output_type": "stream",
     "text": [
      "Average time: 0.00015565109252929686\n"
     ]
    }
   ],
   "source": [
    "#further time testing\n",
    "iters = 500\n",
    "times = []\n",
    "for i in range(iters):\n",
    "    start = time.time()\n",
    "    board_np = board_to_np(board)\n",
    "    times.append(time.time()-start)\n",
    "print(\"Average time:\", np.array(times).mean())"
   ]
  },
  {
   "cell_type": "code",
   "execution_count": null,
   "metadata": {},
   "outputs": [],
   "source": []
  }
 ],
 "metadata": {
  "kernelspec": {
   "display_name": "Python 3",
   "language": "python",
   "name": "python3"
  },
  "language_info": {
   "codemirror_mode": {
    "name": "ipython",
    "version": 3
   },
   "file_extension": ".py",
   "mimetype": "text/x-python",
   "name": "python",
   "nbconvert_exporter": "python",
   "pygments_lexer": "ipython3",
   "version": "3.7.1"
  }
 },
 "nbformat": 4,
 "nbformat_minor": 4
}
