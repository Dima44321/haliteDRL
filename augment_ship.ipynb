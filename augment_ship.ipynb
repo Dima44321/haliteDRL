{
 "cells": [
  {
   "cell_type": "code",
   "execution_count": 73,
   "metadata": {},
   "outputs": [],
   "source": [
    "import numpy as np"
   ]
  },
  {
   "cell_type": "code",
   "execution_count": 74,
   "metadata": {},
   "outputs": [],
   "source": [
    "from kaggle_environments import make\n",
    "from kaggle_environments.envs.halite.helpers import *\n",
    "\n",
    "# Create a test environment for use later\n",
    "board_size = 10\n",
    "environment = make(\"halite\", configuration={\"size\": board_size, \"startingHalite\": 5000})\n",
    "agent_count = 4\n",
    "environment.reset(agent_count)\n",
    "state = environment.state[0]\n",
    "board = Board(state.observation, environment.configuration)\n",
    "me = board.current_player"
   ]
  },
  {
   "cell_type": "code",
   "execution_count": 75,
   "metadata": {},
   "outputs": [],
   "source": [
    "def encode_board(board):\n",
    "    '''\n",
    "    Takes board state and returns encoded 3 x board_size x board_size np array board.\n",
    "    First layer contains ships, second shipyards, third halite\n",
    "    '''\n",
    "    \n",
    "    #Do this else where and pass into fxn??\n",
    "    ships=[ship.position for ship in board.ships.values()]\n",
    "    owner=[ship.player_id+1 for ship in board.ships.values()]#plus 1 to begin with player 1 not 0\n",
    "    shipyards=[shipyard.position for shipyard in board.shipyards.values()]\n",
    "    owner2=[shipyard.player_id+1 for shipyard in board.shipyards.values()]#plus 1 to begin with player 1 not 0\n",
    "    halite=[cell.halite/500 for cell in board.cells.values()]#scale 0-1 1 being max halite=500\n",
    "    \n",
    "\n",
    "    encode=np.zeros((3,board_size,board_size))#Create empty array\n",
    "    \n",
    "    #populate array\n",
    "    for i in range(0,len(ships)):\n",
    "        encode[0,ships[i][0],ships[i][1]]=owner[i]\n",
    "    for i in range(0,len(shipyards)):\n",
    "        encode[1,shipyards[i][0],shipyards[i][1]]=owner2[i]\n",
    "    encode[2]=np.array(halite).reshape(board_size,board_size).T #Halite list reshaped into array\n",
    "    \n",
    "\n",
    "\n",
    "    return encode\n",
    "    "
   ]
  },
  {
   "cell_type": "code",
   "execution_count": 76,
   "metadata": {},
   "outputs": [],
   "source": [
    "def augment_board(encoded, centerpiece):\n",
    "    '''\n",
    "    Centerpiece: Ship or shipyard to be placed in bottom-right center\n",
    "    Encoded: Encoded board\n",
    "    Returns centered board\n",
    "    '''\n",
    "#    y_shift= int(board_size/2 - centerpiece[0])\n",
    "#    x_shift= int(board_size/2 - centerpiece[1])\n",
    "\n",
    "    y_shift= int(encoded.shape[1]/2 - centerpiece[0]) #Done without global varibale board_size\n",
    "    x_shift= int(encoded.shape[1]/2 - centerpiece[1]) #Done without global variable board_size\n",
    "    \n",
    "    print(y_shift)\n",
    "    augment = np.roll(encoded,y_shift,1)\n",
    "    augment = np.roll(augment,x_shift,2) \n",
    "    return augment"
   ]
  },
  {
   "cell_type": "code",
   "execution_count": 77,
   "metadata": {},
   "outputs": [
    {
     "name": "stdout",
     "output_type": "stream",
     "text": [
      "3\n",
      "[[[4.    0.    0.    0.    0.    2.    0.    0.    0.    0.   ]\n",
      "  [0.    0.    0.    0.    0.    0.    0.    0.    0.    0.   ]\n",
      "  [0.    0.    0.    0.    0.    0.    0.    0.    0.    0.   ]\n",
      "  [0.    0.    0.    0.    0.    0.    0.    0.    0.    0.   ]\n",
      "  [0.    0.    0.    0.    0.    0.    0.    0.    0.    0.   ]\n",
      "  [3.    0.    0.    0.    0.    1.    0.    0.    0.    0.   ]\n",
      "  [0.    0.    0.    0.    0.    0.    0.    0.    0.    0.   ]\n",
      "  [0.    0.    0.    0.    0.    0.    0.    0.    0.    0.   ]\n",
      "  [0.    0.    0.    0.    0.    0.    0.    0.    0.    0.   ]\n",
      "  [0.    0.    0.    0.    0.    0.    0.    0.    0.    0.   ]]\n",
      "\n",
      " [[0.    0.    0.    0.    0.    0.    0.    0.    0.    0.   ]\n",
      "  [0.    0.    0.    0.    0.    0.    0.    0.    0.    0.   ]\n",
      "  [0.    0.    0.    0.    0.    0.    0.    0.    0.    0.   ]\n",
      "  [0.    0.    0.    0.    0.    0.    0.    0.    0.    0.   ]\n",
      "  [0.    0.    0.    0.    0.    0.    0.    0.    0.    0.   ]\n",
      "  [0.    0.    0.    0.    0.    0.    0.    0.    0.    0.   ]\n",
      "  [0.    0.    0.    0.    0.    0.    0.    0.    0.    0.   ]\n",
      "  [0.    0.    0.    0.    0.    0.    0.    0.    0.    0.   ]\n",
      "  [0.    0.    0.    0.    0.    0.    0.    0.    0.    0.   ]\n",
      "  [0.    0.    0.    0.    0.    0.    0.    0.    0.    0.   ]]\n",
      "\n",
      " [[0.    0.39  0.    0.    0.39  0.    0.    0.    0.    0.   ]\n",
      "  [0.016 0.156 0.    0.    0.156 0.016 0.    0.    0.    0.   ]\n",
      "  [0.238 0.    0.228 0.228 0.    0.238 0.168 0.    0.    0.168]\n",
      "  [0.238 0.    0.228 0.228 0.    0.238 0.168 0.    0.    0.168]\n",
      "  [0.016 0.156 0.    0.    0.156 0.016 0.    0.    0.    0.   ]\n",
      "  [0.    0.39  0.    0.    0.39  0.    0.    0.    0.    0.   ]\n",
      "  [0.    0.004 0.628 0.628 0.004 0.    0.    0.104 0.104 0.   ]\n",
      "  [0.084 0.004 0.068 0.068 0.004 0.084 0.09  0.31  0.31  0.09 ]\n",
      "  [0.084 0.004 0.068 0.068 0.004 0.084 0.09  0.31  0.31  0.09 ]\n",
      "  [0.    0.004 0.628 0.628 0.004 0.    0.    0.104 0.104 0.   ]]]\n"
     ]
    }
   ],
   "source": [
    "encoded=encode_board(board)\n",
    "\n",
    "myships=[ship.position for ship in me.ships]\n",
    "myshipyards=[shipyards.position for ship in me.shipyards]\n",
    "\n",
    "\n",
    "#Test loop just prints boards\n",
    "for i in myships:\n",
    "    final = augment_board(encoded, i)\n",
    "    print (final)\n",
    "    \n",
    "#Prints nothing in this case because no shipyards\n",
    "for i in myshipyards:\n",
    "    final = augment_board(encoded, i)\n",
    "    print (final)"
   ]
  },
  {
   "cell_type": "code",
   "execution_count": null,
   "metadata": {},
   "outputs": [],
   "source": []
  }
 ],
 "metadata": {
  "kernelspec": {
   "display_name": "Python 3",
   "language": "python",
   "name": "python3"
  },
  "language_info": {
   "codemirror_mode": {
    "name": "ipython",
    "version": 3
   },
   "file_extension": ".py",
   "mimetype": "text/x-python",
   "name": "python",
   "nbconvert_exporter": "python",
   "pygments_lexer": "ipython3",
   "version": "3.7.3"
  }
 },
 "nbformat": 4,
 "nbformat_minor": 2
}
