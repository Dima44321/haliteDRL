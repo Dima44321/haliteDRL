{
 "cells": [
  {
   "cell_type": "code",
   "execution_count": 1,
   "metadata": {},
   "outputs": [],
   "source": [
    "import numpy as np"
   ]
  },
  {
   "cell_type": "code",
   "execution_count": 2,
   "metadata": {},
   "outputs": [],
   "source": [
    "from kaggle_environments import make\n",
    "from kaggle_environments.envs.halite.helpers import *\n",
    "\n",
    "# Create a test environment for use later\n",
    "board_size = 5\n",
    "environment = make(\"halite\", configuration={\"size\": board_size, \"startingHalite\": 1000})\n",
    "agent_count = 4\n",
    "environment.reset(agent_count)\n",
    "state = environment.state[0]\n",
    "board = Board(state.observation, environment.configuration)"
   ]
  },
  {
   "cell_type": "code",
   "execution_count": 3,
   "metadata": {},
   "outputs": [],
   "source": [
    "ships=[ship.position for ship in board.ships.values()]\n",
    "owner=[ship.player_id+1 for ship in board.ships.values()]#plus 1 to begin with player 1 not 0\n",
    "shipyards=[shipyard.position for shipyard in board.shipyards.values()]\n",
    "owner2=[shipyard.player_id+1 for shipyard in board.shipyards.values()]#plus 1 to begin with player 1 not 0\n",
    "halite=[cell.halite/500 for cell in board.cells.values()]#scale 0-1 1 being max halite=500"
   ]
  },
  {
   "cell_type": "code",
   "execution_count": 4,
   "metadata": {},
   "outputs": [],
   "source": [
    "encode=np.zeros((3,board_size,board_size))\n",
    "for i in range(0,len(ships)):\n",
    "    encode[0,ships[i][0],ships[i][1]]=owner[i]\n",
    "for i in range(0,len(shipyards)):\n",
    "    encode[1,shipyards[i][0],shipyards[i][1]]=owner2[i]\n",
    "encode[2]=np.array(halite).reshape(board_size,board_size).T #Halite list reshaped into array\n"
   ]
  },
  {
   "cell_type": "code",
   "execution_count": 5,
   "metadata": {},
   "outputs": [
    {
     "name": "stdout",
     "output_type": "stream",
     "text": [
      "| 0 | 3 | 0 | 3 | 0 |\n",
      "| 0 |a0 | 0 |b0 | 0 |\n",
      "| 0 | 0 | 0 | 0 | 0 |\n",
      "| 0 |c0 | 0 |d0 | 0 |\n",
      "| 0 | 3 | 0 | 3 | 0 |\n",
      "\n",
      "[[0. 0. 0. 0. 0.]\n",
      " [0. 3. 0. 1. 0.]\n",
      " [0. 0. 0. 0. 0.]\n",
      " [0. 4. 0. 2. 0.]\n",
      " [0. 0. 0. 0. 0.]]\n",
      "[[0. 0. 0. 0. 0.]\n",
      " [0. 0. 0. 0. 0.]\n",
      " [0. 0. 0. 0. 0.]\n",
      " [0. 0. 0. 0. 0.]\n",
      " [0. 0. 0. 0. 0.]]\n",
      "[[0.042 0.39  0.054 0.39  0.042]\n",
      " [0.    0.    0.    0.    0.   ]\n",
      " [0.    0.004 0.004 0.004 0.   ]\n",
      " [0.    0.    0.    0.    0.   ]\n",
      " [0.042 0.39  0.054 0.39  0.042]]\n"
     ]
    }
   ],
   "source": [
    "#View output\n",
    "\n",
    "print(board)\n",
    "\n",
    "print(encode[0])\n",
    "print(encode[1])\n",
    "print(encode[2])"
   ]
  },
  {
   "cell_type": "code",
   "execution_count": 14,
   "metadata": {},
   "outputs": [
    {
     "data": {
      "text/plain": [
       "4"
      ]
     },
     "execution_count": 14,
     "metadata": {},
     "output_type": "execute_result"
    }
   ],
   "source": [
    "round(3.5)"
   ]
  },
  {
   "cell_type": "code",
   "execution_count": 19,
   "metadata": {},
   "outputs": [
    {
     "data": {
      "text/plain": [
       "True"
      ]
     },
     "execution_count": 19,
     "metadata": {},
     "output_type": "execute_result"
    }
   ],
   "source": [
    "'abc'<'i'"
   ]
  },
  {
   "cell_type": "code",
   "execution_count": 20,
   "metadata": {},
   "outputs": [
    {
     "ename": "NameError",
     "evalue": "name 'os' is not defined",
     "output_type": "error",
     "traceback": [
      "\u001b[1;31m---------------------------------------------------------------------------\u001b[0m",
      "\u001b[1;31mNameError\u001b[0m                                 Traceback (most recent call last)",
      "\u001b[1;32m<ipython-input-20-266fd7b90f2e>\u001b[0m in \u001b[0;36m<module>\u001b[1;34m\u001b[0m\n\u001b[1;32m----> 1\u001b[1;33m \u001b[0mos\u001b[0m\u001b[1;33m.\u001b[0m\u001b[0m_exit\u001b[0m\u001b[1;33m(\u001b[0m\u001b[1;36m0\u001b[0m\u001b[1;33m)\u001b[0m\u001b[1;33m\u001b[0m\u001b[1;33m\u001b[0m\u001b[0m\n\u001b[0m",
      "\u001b[1;31mNameError\u001b[0m: name 'os' is not defined"
     ]
    }
   ],
   "source": [
    "os._exit(0)"
   ]
  },
  {
   "cell_type": "code",
   "execution_count": null,
   "metadata": {},
   "outputs": [],
   "source": []
  }
 ],
 "metadata": {
  "kernelspec": {
   "display_name": "Python 3",
   "language": "python",
   "name": "python3"
  },
  "language_info": {
   "codemirror_mode": {
    "name": "ipython",
    "version": 3
   },
   "file_extension": ".py",
   "mimetype": "text/x-python",
   "name": "python",
   "nbconvert_exporter": "python",
   "pygments_lexer": "ipython3",
   "version": "3.7.3"
  }
 },
 "nbformat": 4,
 "nbformat_minor": 2
}
